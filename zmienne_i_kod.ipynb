{
 "cells": [
  {
   "cell_type": "code",
   "execution_count": null,
   "metadata": {},
   "outputs": [],
   "source": [
    "ports = ['WAW', 'KRK', 'GDN', 'KTW', 'WMI', 'WRO', 'POZ', 'RZE', 'SZZ',\n",
    "         'LUZ', 'BZG', 'LCJ', 'SZY', 'IEG', 'RDO']\n",
    "\n",
    "#1\n",
    "connections = [(p,k) for p in ports for k in ports]\n",
    "print(connections)\n",
    "print(len(connections))\n",
    "#2\n",
    "connections = [(p,k) for p in ports for k in ports if p!=k]\n",
    "print(connections)\n",
    "print(len(connections))\n",
    "#3\n",
    "connections = [(p,k) for p in ports for k in ports if p<k]\n",
    "print(connections)\n",
    "print(len(connections))\n"
   ]
  },
  {
   "cell_type": "code",
   "execution_count": null,
   "metadata": {},
   "outputs": [],
   "source": [
    "ports = ['WAW', 'KRK', 'GDN', 'KTW']\n",
    "\n",
    "\n",
    "gen = ((p,k) for p in ports for k in ports)\n",
    "print(gen)\n",
    "print(next(gen))\n",
    "\n",
    "print(\"-\"*30)\n",
    "for x in gen:\n",
    "    print(x)\n",
    "\n",
    "gen = ((p,k) for p in ports for k in ports)\n",
    "\n",
    "print(\"-\"*30)\n",
    "while True:\n",
    "    try:\n",
    "        print(next(gen))\n",
    "    except StopIteration:\n",
    "        print(\"Generated all values\")\n",
    "        break"
   ]
  },
  {
   "cell_type": "code",
   "execution_count": null,
   "metadata": {},
   "outputs": [],
   "source": [
    "ports = ['WAW', 'KRK', 'GDN', 'KTW', 'WMI', 'WRO', 'POZ', 'RZE', 'SZZ',\n",
    "         'LUZ', 'BZG', 'LCJ', 'SZY', 'IEG', 'RDO']\n",
    "\n",
    "#1\n",
    "gen = ((p,k) for p in ports for k in ports)\n",
    "for n,x in enumerate(gen):\n",
    "    pass\n",
    "print(n+1)\n",
    "\n",
    "#2\n",
    "gen = ((p,k) for p in ports for k in ports if p!=k)\n",
    "for n,x in enumerate(gen):\n",
    "    pass\n",
    "print(n+1)\n",
    "#3\n",
    "gen = ((p,k) for p in ports for k in ports if p<k)\n",
    "for n,x in enumerate(gen):\n",
    "    pass\n",
    "print(n+1)\n"
   ]
  },
  {
   "cell_type": "code",
   "execution_count": null,
   "metadata": {},
   "outputs": [],
   "source": [
    "import math\n",
    "import matplotlib.pyplot as plt\n",
    "\n",
    "argument_list = []\n",
    "results = []\n",
    "for n in range(0,101):\n",
    "    argument_list.append(n/10)\n",
    "print('Wprowadz wzor')\n",
    "formula = input(\"Wzor ma operowac na zmiennej x\")\n",
    "print(formula)\n",
    "for i,x in enumerate(argument_list):\n",
    "    results.append(eval(formula))\n",
    "\n",
    "for a in range(0,101,5):\n",
    "    print(\"x:{0:3.1f} y:{0:3.1f}\".format(argument_list[a],results[a]))\n",
    "\n",
    "plt.grid(True) # dodaje siatkę w tle wykresu\n",
    "plt.title('f(x)')\n",
    "plt.xlabel('X')\n",
    "plt.ylabel('Y')\n",
    "plt.plot(argument_list,results, color='red', linestyle='dashed')"
   ]
  },
  {
   "cell_type": "code",
   "execution_count": null,
   "metadata": {},
   "outputs": [],
   "source": [
    "var_x=10\n",
    "\n",
    "source='''\n",
    "for i in range(var_x):\n",
    "    print('-'*i)\n",
    "new_var=3\n",
    "'''\n",
    "\n",
    "result=exec(source)\n",
    "print(result)\n",
    "print(var_x)\n",
    "print(new_var)"
   ]
  },
  {
   "cell_type": "code",
   "execution_count": null,
   "metadata": {},
   "outputs": [],
   "source": [
    "import os\n",
    "files_to_process = [\n",
    "    r\"C:\\Users\\Konrad\\Desktop\\identyfikacja\\pliki\\kod1.py\",\n",
    "    r\"C:\\Users\\Konrad\\Desktop\\identyfikacja\\pliki\\kod2.py\"\n",
    "    ]\n",
    "print(os.path.basename(files_to_process[0]))\n",
    "print(os.path.basename(files_to_process[1]))\n",
    "\n",
    "f = open(files_to_process[0])\n",
    "source = f.read()\n",
    "exec(source)\n",
    "f.close()\n",
    "\n",
    "f = open(files_to_process[1])\n",
    "source = f.read()\n",
    "exec(source)\n",
    "f.close()"
   ]
  },
  {
   "cell_type": "code",
   "execution_count": null,
   "metadata": {},
   "outputs": [],
   "source": [
    "import time\n",
    "import math\n",
    "code = 'a**2+3*a+5'\n",
    "a=0\n",
    "\n",
    "start = time.time()\n",
    "for i in range(10000):\n",
    "    exec(code)\n",
    "stop = time.time()   \n",
    "notComp=stop-start\n",
    "\n",
    "start = time.time()\n",
    "compiled = compile(code,'internal variable source','exec')\n",
    "for i in range(10000):\n",
    "    exec(compiled)\n",
    "stop = time.time()\n",
    "comp=stop-start  \n",
    "\n",
    "print(a)\n",
    "print(comp)\n",
    "print(notComp)\n",
    "print(notComp/comp)"
   ]
  },
  {
   "cell_type": "code",
   "execution_count": 10,
   "metadata": {
    "tags": []
   },
   "outputs": [
    {
     "output_type": "stream",
     "name": "stdout",
     "text": [
      "Funkcja: abs(x**3 - x**0.5)\n",
      "Min: 0.00, max: 999699998.38\n",
      "Czas wykonania 0.132s\n",
      "Funkcja: abs(math.sin(x) * x**2)\n",
      "Min: 0.00, max: 994028.63\n",
      "Czas wykonania 0.146s\n",
      "------------------------------\n",
      "Funkcja: abs(x**3 - x**0.5)\n",
      "Min: 0.00, max: 999699998.38\n",
      "Czas wykonania 0.009s\n",
      "Funkcja: abs(math.sin(x) * x**2)\n",
      "Min: 0.00, max: 994028.63\n",
      "Czas wykonania 0.007s\n"
     ]
    }
   ],
   "source": [
    "import time\n",
    "import math\n",
    "formulas_list = [\n",
    "     \"abs(x**3 - x**0.5)\",\n",
    "     \"abs(math.sin(x) * x**2)\"]\n",
    "\n",
    "argument_list = []\n",
    "for i in range (10000):\n",
    "    argument_list.append(i/10)\n",
    "\n",
    "#not complied\n",
    "for formula in formulas_list:\n",
    "    results_list = []\n",
    "    print(\"Funkcja:\",formula)  \n",
    "    start = time.time()\n",
    "    for x in argument_list:\n",
    "        results_list.append(eval(formula))\n",
    "    stop = time.time()\n",
    "    print(\"Min: {:.2f}, max: {:.2f}\".format(min(results_list),max(results_list)))\n",
    "    print(\"Czas wykonania {0:2.3f}s\".format(stop-start))\n",
    "\n",
    "print('-'*30)\n",
    "#compiled\n",
    "for formula in formulas_list:\n",
    "    results_list = []\n",
    "    print(\"Funkcja:\",formula)\n",
    "    compiledFormula=compile(formula,\"internal source\",\"eval\")  \n",
    "    start = time.time()\n",
    "    for x in argument_list:\n",
    "        results_list.append(eval(compiledFormula))\n",
    "    stop = time.time()\n",
    "    print(\"Min: {:.2f}, max: {:.2f}\".format(min(results_list),max(results_list)))\n",
    "    print(\"Czas wykonania {0:2.3f}s\".format(stop-start))"
   ]
  }
 ],
 "metadata": {
  "kernelspec": {
   "name": "python3",
   "display_name": "Python 3",
   "language": "python"
  },
  "language_info": {
   "codemirror_mode": {
    "name": "ipython",
    "version": 3
   },
   "file_extension": ".py",
   "mimetype": "text/x-python",
   "name": "python",
   "nbconvert_exporter": "python",
   "pygments_lexer": "ipython3",
   "version": "3.7.10"
  },
  "metadata": {
   "interpreter": {
    "hash": "34af8fc3bb917bdbb824768c52b0e753db1a4026371a405fe201c4c2d58cb449"
   }
  },
  "orig_nbformat": 2
 },
 "nbformat": 4,
 "nbformat_minor": 2
}