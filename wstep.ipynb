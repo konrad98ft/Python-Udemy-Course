{
 "cells": [
  {
   "source": [
    "def BuyMe(prefix='Buy', what='sth nice'):\n",
    "    print(prefix,what)\n",
    "\n",
    "BuyMe(\"Please buy me\",\"a new car\")\n",
    "BuyMe(prefix=\"Please buy me\", what=\"a new car\") \n",
    "BuyMe( what=\"a new car\",prefix=\"Please buy me\")   \n",
    "BuyMe('Please')\n",
    "BuyMe(prefix='Please')\n",
    "BuyMe()\n"
   ],
   "cell_type": "markdown",
   "metadata": {}
  },
  {
   "source": [
    "myvar=\"Hello world\"\n",
    "myvar2=myvar+'!!'\n",
    "print(myvar, myvar2)\n",
    "print(type(myvar), type(myvar2))\n",
    "print(myvar is myvar2)\n",
    "print(id(myvar),id(myvar2))\n",
    "myvar2=myvar2[:-2]\n",
    "print(myvar, myvar2)\n",
    "print(type(myvar), type(myvar2))\n",
    "print(myvar is myvar2)\n",
    "print(id(myvar),id(myvar2))\n",
    "\n",
    "\n",
    " "
   ],
   "cell_type": "code",
   "metadata": {},
   "execution_count": null,
   "outputs": []
  },
  {
   "source": [
    "#z1c1\n",
    "a=b=c=10\n",
    "print(a,id(a))\n",
    "print(b,id(b))\n",
    "print(c,id(c))\n",
    "a=20\n",
    "print(a,id(a))\n",
    "print(b,id(b))\n",
    "print(c,id(c))\n",
    "\n",
    "list_a = list_b = list_c = [1,2,3] \n",
    "print(list_a,id(list_a))\n",
    "print(list_b,id(list_b))\n",
    "print(list_c,id(list_c))\n",
    "list_a.append(4)\n",
    "print(list_a,id(list_a))\n",
    "print(list_b,id(list_b))\n",
    "print(list_c,id(list_c))\n",
    "\n",
    "x=10\n",
    "y=10\n",
    "print(x,id(x))\n",
    "print(y,id(y))\n",
    "y+=1\n",
    "y-=1\n",
    "print(x,id(x))\n",
    "print(y,id(y))\n",
    "y+=1234567890\n",
    "y-=1234567890\n",
    "print(x,id(x))\n",
    "print(y,id(y))"
   ],
   "cell_type": "code",
   "metadata": {},
   "execution_count": null,
   "outputs": []
  },
  {
   "source": [
    "#s1l2\n",
    "number =10\n",
    "print(\"Variable number\",number,id(number))\n",
    "number+=2\n",
    "\n",
    "text = 'Miras'\n",
    "print(\"Variable text\",text,id(text))\n",
    "text += ' Ukowicz'\n",
    "print(\"Variable text\",text,id(text))\n",
    "\n",
    "list = [1,2,3]\n",
    "print(\"List \",list,id(list))\n",
    "list.append(4)\n",
    "print(\"List \",list,id(list))\n",
    "\n",
    "list2=list\n",
    "print(\"List2 \",list2,id(list2))\n",
    "list2.append(5)\n",
    "print(\"List2 \",list2,id(list2))\n",
    "print(\"List \",list,id(list))\n",
    "\n",
    "list3=list.copy()\n",
    "print(\"List3 \",list3,id(list3))\n",
    "list3.append(6)\n",
    "print(\"List3 \",list3,id(list3))\n",
    "print(\"List \",list,id(list))\n"
   ],
   "cell_type": "code",
   "metadata": {},
   "execution_count": null,
   "outputs": []
  },
  {
   "source": [
    "#z1z2\n",
    "days = ['mon','tue','wed','thu','fri','sat','sun']\n",
    "workdays=days.copy()\n",
    "workdays.remove('sat')\n",
    "workdays.remove('sun')\n",
    "print(days)\n",
    "print(workdays)"
   ],
   "cell_type": "code",
   "metadata": {},
   "execution_count": null,
   "outputs": []
  },
  {
   "source": [
    "listOfErrors=[100,101,102]\n",
    "print(\"Var listOfErrors\",listOfErrors,type(listOfErrors))\n",
    "if listOfErrors:\n",
    "    print('True')\n",
    "if len(listOfErrors)>0:\n",
    "    print('True')    \n"
   ],
   "cell_type": "markdown",
   "metadata": {}
  },
  {
   "source": [
    "#z1z3\n",
    "def DisplayOptions(options):\n",
    "    for i in range(len(options)):\n",
    "        print(\"{} - {}\".format(i+1, options[i]))\n",
    "\n",
    "    return choice\n",
    "    \n",
    " \n",
    "choice='x'\n",
    "options = ['load data', 'export data', 'analyze & predict']\n",
    " \n",
    "while choice:\n",
    " \n",
    "     \n",
    "    choice = input('Select option above or press enter to exit: ')\n",
    "\n",
    "    #executed only if something was entered\n",
    "    if choice:\n",
    "        try:\n",
    "            choice_num = int(choice)-1\n",
    "            if choice_num >=0 and choice_num < len(options):\n",
    "                print(\"you have selected {} - {}\".format(choice_num+1, options[choice_num]))\n",
    "            else:\n",
    "                print(\"choose a value from a list or press enter\")\n",
    "        except:\n",
    "            print(\"You need to enter a number\")\n",
    "    else:\n",
    "        print('----- END -----')\n"
   ],
   "cell_type": "code",
   "metadata": {},
   "execution_count": null,
   "outputs": []
  },
  {
   "source": [
    "price = 123\n",
    "bonus = 23\n",
    "bonus_granted = True\n",
    "\n",
    "#if bonus_granted:\n",
    "#   price -= bonus\n",
    " \n",
    "price= price- bonus if bonus_granted else price \n",
    "print(price)"
   ],
   "cell_type": "code",
   "metadata": {},
   "execution_count": null,
   "outputs": []
  },
  {
   "source": [
    "rating = 3\n",
    " \n",
    "if rating == 5:\n",
    "    print('very good')\n",
    "elif rating == 4:\n",
    "    print('good')\n",
    "else:\n",
    "    print('weak')\n",
    "\n",
    "\n",
    "print('very good') if rating == 5 else print('good') if rating == 4 else  print('weak')   "
   ],
   "cell_type": "code",
   "metadata": {},
   "execution_count": null,
   "outputs": []
  },
  {
   "source": [
    "import urllib.request\n",
    "import os\n",
    "\n",
    "data_dir= r'C:\\Users\\Konrad\\Desktop\\identyfikacja\\pliki'\n",
    "\n",
    "pages = [\n",
    "    { 'name': 'jsos',      'url': 'https://jsos.pwr.edu.pl'},\n",
    "    { 'name': 'eportal',   'url': 'https://eportal.pwr.edu.pl' },\n",
    "    { 'name': 'edukacjacl','url': 'https://edukacja.pwr.wroc.pl/EdukacjaWeb/studia.do'} ]\n",
    "\n",
    "for page in pages:\n",
    "    try: \n",
    "        file_name = \"{}.html\".format(page[\"name\"])\n",
    "        print(file_name)\n",
    "        path=str(data_dir)+\"\\\\\"+ file_name\n",
    "        print(path)\n",
    "        urllib.request.urlretrieve(page[\"url\"], path)\n",
    "    except:\n",
    "        print(\"Error occuerd\")\n",
    "        break;\n",
    "else:\n",
    "    print(\"Pobrano wszystkie strony\")    \n",
    "\n",
    "#print(str(data_dir)+str(pages[1])+'.html')\n"
   ],
   "cell_type": "code",
   "metadata": {},
   "execution_count": null,
   "outputs": []
  },
  {
   "cell_type": "code",
   "execution_count": 11,
   "metadata": {},
   "outputs": [
    {
     "output_type": "stream",
     "name": "stdout",
     "text": [
      "['red']\n['red', 'orange']\n['red', 'orange', 'green']\n['red', 'orange', 'green', 'violet']\n['red', 'orange', 'green', 'violet', 'blue']\n['red', 'orange', 'green', 'violet', 'blue', 'yellow']\n"
     ]
    }
   ],
   "source": [
    "colors = [\"red\", \"orange\", \"green\", \"violet\", \"blue\", \"yellow\"]\n",
    "\n",
    "def pickColors(lista,n):\n",
    "    picked=lista[0:n]\n",
    "    return picked\n",
    "\n",
    "\n",
    "for i in range(1,len(colors)+1):\n",
    "    color_set = pickColors(colors,i)\n",
    "    print(color_set)"
   ]
  },
  {
   "cell_type": "code",
   "execution_count": 18,
   "metadata": {},
   "outputs": [
    {
     "output_type": "stream",
     "name": "stdout",
     "text": [
      "11\n"
     ]
    }
   ],
   "source": [
    "korp = \"Korporacja (z łac. corpo – ciało, ratus – szczur; pol. ciało szczura) – organizacja, która pod przykrywką prowadzenia biznesu włada dzisiejszym światem. Wydawać się może utopijnym miejscem realizacji pasji zawodowych. W rzeczywistości jednak nie jest wcale tak kolorowo. Korporacja służy do wyzyskiwania człowieka w imię postępu. Rządzi w niej prawo dżungli.\"\n",
    "\n",
    "no = korp.find('(')\n",
    "nk = korp.find(')')\n",
    "\n",
    "print(no)\n",
    "print(nk)"
   ]
  },
  {
   "cell_type": "code",
   "execution_count": null,
   "metadata": {},
   "outputs": [],
   "source": []
  }
 ],
 "metadata": {
  "kernelspec": {
   "name": "python3",
   "display_name": "Python 3",
   "language": "python"
  },
  "language_info": {
   "codemirror_mode": {
    "name": "ipython",
    "version": 3
   },
   "file_extension": ".py",
   "mimetype": "text/x-python",
   "name": "python",
   "nbconvert_exporter": "python",
   "pygments_lexer": "ipython3",
   "version": "3.7.10"
  },
  "metadata": {
   "interpreter": {
    "hash": "34af8fc3bb917bdbb824768c52b0e753db1a4026371a405fe201c4c2d58cb449"
   }
  },
  "orig_nbformat": 2
 },
 "nbformat": 4,
 "nbformat_minor": 2
}