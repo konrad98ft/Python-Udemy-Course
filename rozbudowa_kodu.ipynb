{
 "cells": [
  {
   "cell_type": "code",
   "execution_count": null,
   "metadata": {},
   "outputs": [],
   "source": [
    "def show_progress(how_many,character='*'):\n",
    "    print(character*how_many, how_many)\n",
    "\n",
    "show_progress(10)\n",
    "show_progress(15)\n",
    "show_progress(30)\n",
    " \n",
    "show_progress(10, '-')\n",
    "show_progress(15, '+')"
   ]
  },
  {
   "cell_type": "code",
   "execution_count": null,
   "metadata": {},
   "outputs": [],
   "source": [
    "def BuyMe(prefix='Please buy me',what='sth nice',*args,**kwargs):\n",
    "    print(prefix,what)\n",
    "    print(args) #tuplet (prawie lista)\n",
    "    print(kwargs) #słownik\n",
    "\n",
    "BuyMe(\"Please buy me\",\"new car\",'a dog','a flat',shop='market',color='any')\n",
    "\n",
    "products=['milk','bread','chockolate']\n",
    "parameters={'price':'low','quality':'high'}\n",
    "\n",
    "BuyMe(\"Please buy me\",\"new car\",*products,**parameters)\n"
   ]
  },
  {
   "cell_type": "code",
   "execution_count": null,
   "metadata": {},
   "outputs": [],
   "source": [
    "def calculate_paint(efficency_ltr_per_m2,**kwargs):\n",
    "    print(\"Efficency ltr per m2:\",efficency_ltr_per_m2)\n",
    "    pow=0\n",
    "    for key in kwargs:\n",
    "        print(\"Pokój {} powierzchnia {} m^2\".format(key,kwargs[key]))\n",
    "        pow+=kwargs[key]\n",
    "    return(pow/efficency_ltr_per_m2)\n",
    "\n",
    "\n",
    "liters=calculate_paint(5,kuchnia=80,salon=100,korytarz=40)\n",
    "print(liters)"
   ]
  },
  {
   "cell_type": "code",
   "execution_count": null,
   "metadata": {},
   "outputs": [],
   "source": [
    "def log_it(nr_op,*args):\n",
    "    path =  r\"C:\\Users\\Konrad\\Desktop\\identyfikacja\\pliki\\logi.txt\"\n",
    "    plik = open(path,'a')\n",
    "    for i,op in enumerate(args):\n",
    "        plik.write(\"{}.{}: wykonano {}\\n\".format(nr_op,i,op))\n",
    "        print(\"{}.{}: wykonano {}\".format(nr_op,i,op))\n",
    "    plik.write(\"\\n\")\n",
    "log_it(1,\"wyczyszczono catche\",\"nauka funkcji\",\"zapisano do pliku\")\n",
    "\n",
    "log_it(2,'Starting processing forecasting')\n",
    "\n",
    "log_it(3,'ERROR', 'Not enough data', 'invoices', '2020')"
   ]
  },
  {
   "cell_type": "code",
   "execution_count": null,
   "metadata": {},
   "outputs": [],
   "source": [
    "def double(x):\n",
    "    return 2 *x\n",
    " \n",
    "def root(x):\n",
    "    return x**2\n",
    " \n",
    "def negative(x):\n",
    "    return -x\n",
    " \n",
    "def div2(x):\n",
    "    return x/2\n",
    "a=8\n",
    "transformations = [double,root,negative,div2]\n",
    "tmp_return_value=a\n",
    "\n",
    "for transforamtion in transformations:\n",
    "    tmp_return_value=transforamtion(tmp_return_value)\n",
    "    print(tmp_return_value)\n",
    "\n",
    "a=8\n",
    "transformations = [root,root,div2,double]\n",
    "tmp_return_value=a\n",
    "\n",
    "for transforamtion in transformations:\n",
    "    tmp_return_value=transforamtion(tmp_return_value)\n",
    "    print(tmp_return_value)\n",
    "   \n"
   ]
  },
  {
   "cell_type": "code",
   "execution_count": 35,
   "metadata": {},
   "outputs": [
    {
     "output_type": "stream",
     "name": "stdout",
     "text": [
      "[0, 1, 2, 3, 4, 5, 6, 7, 8, 9, 10]\n[0, 2, 4, 6, 8, 10, 12, 14, 16, 18, 20]\n[0, 1, 4, 9, 16, 25, 36, 49, 64, 81, 100]\n[0, -1, -2, -3, -4, -5, -6, -7, -8, -9, -10]\n[0.0, 0.5, 1.0, 1.5, 2.0, 2.5, 3.0, 3.5, 4.0, 4.5, 5.0]\n"
     ]
    }
   ],
   "source": [
    "def double(x):\n",
    "    return 2 *x\n",
    " \n",
    "def root(x):\n",
    "    return x**2\n",
    " \n",
    "def negative(x):\n",
    "    return -x\n",
    " \n",
    "def div2(x):\n",
    "    return x/2\n",
    "\n",
    "def generate_values(function,lista):\n",
    "    results = []\n",
    "    for l in lista:\n",
    "        #print(\"dla funkcji {} f({})={}\".format(l,l,function(l)))\n",
    "        results.append(function(l))\n",
    "    return results\n",
    "\n",
    "x_table = list(range(11))\n",
    "print(x_table)\n",
    "print(generate_values(double, x_table))\n",
    "print(generate_values(root, x_table))\n",
    "print(generate_values(negative, x_table))\n",
    "print(generate_values(div2, x_table))\n"
   ]
  },
  {
   "cell_type": "code",
   "execution_count": 4,
   "metadata": {},
   "outputs": [
    {
     "output_type": "stream",
     "name": "stdout",
     "text": [
      "10\n-10\n"
     ]
    }
   ],
   "source": [
    "def CreateFunction(operation='+'):\n",
    "    source='''\n",
    "def f(*args):\n",
    "    result=0\n",
    "    for a in args:\n",
    "        result{}=a\n",
    "    return result\n",
    "'''.format(operation)\n",
    "    exec(source,globals())\n",
    "    return f\n",
    "\n",
    "add=CreateFunction('+')\n",
    "sub=CreateFunction('-')\n",
    "print(add(1,2,3,4))\n",
    "print(sub(1,2,3,4))\n"
   ]
  },
  {
   "cell_type": "code",
   "execution_count": 9,
   "metadata": {},
   "outputs": [
    {
     "output_type": "stream",
     "name": "stdout",
     "text": [
      "825 days, 23:39:16.629027\n1189419.0\n"
     ]
    }
   ],
   "source": [
    "from datetime import datetime\n",
    " \n",
    "def time_span_m(start, end):\n",
    "    duration = end - start\n",
    "    duration_in_s = duration.total_seconds()\n",
    "    return divmod(duration_in_s, 60)[0]\n",
    " \n",
    "def time_span_h(start, end):\n",
    "    duration = end - start\n",
    "    duration_in_s = duration.total_seconds()\n",
    "    return divmod(duration_in_s, 3600)[0]\n",
    " \n",
    "def time_span_d(start, end):\n",
    "    duration = end - start\n",
    "    duration_in_s = duration.total_seconds()\n",
    "    return divmod(duration_in_s, 86400)[0]\n",
    "\n",
    "def CreateFunction(span='s'):\n",
    "    sec = 60 if span == 's' else 3600 if span == 'h' else 86400 if span == 'd' else 1\n",
    "    source = '''\n",
    "def f(start,end):\n",
    "    duration = end - start\n",
    "    print(duration)\n",
    "    duration_in_s = duration.total_seconds()\n",
    "    return divmod(duration_in_s, {})[0]\n",
    "    '''.format(sec)\n",
    "    exec(source,globals())\n",
    "    return f\n",
    "\n",
    "d=CreateFunction('s')\n",
    "\n",
    "start = datetime(2019, 1, 1, 0, 0, 0)  \n",
    "end  = datetime.now()\n",
    "\n",
    "print(d(start,end))\n"
   ]
  },
  {
   "cell_type": "code",
   "execution_count": null,
   "metadata": {},
   "outputs": [],
   "source": [
    "from datetime import datetime\n",
    " \n",
    "def time_span_m(start, end):\n",
    "    duration = end - start\n",
    "    duration_in_s = duration.total_seconds()\n",
    "    return divmod(duration_in_s, 60)[0]\n",
    " \n",
    "def time_span_h(start, end):\n",
    "    duration = end - start\n",
    "    duration_in_s = duration.total_seconds()\n",
    "    return divmod(duration_in_s, 3600)[0]\n",
    " \n",
    "def time_span_d(start, end):\n",
    "    duration = end - start\n",
    "    duration_in_s = duration.total_seconds()\n",
    "    return divmod(duration_in_s, 86400)[0]\n",
    " \n",
    " \n",
    " \n",
    "start = datetime(2019, 1, 1, 0, 0, 0)  \n",
    "end  = datetime.now()\n",
    " \n",
    "print(time_span_m(start, end))\n",
    "print(time_span_h(start, end))\n",
    "print(time_span_d(start, end))\n",
    " \n",
    " \n",
    "def create_function(span):\n",
    " \n",
    "    if span == 'm':\n",
    "        sec = 60\n",
    "    elif span == 'h':\n",
    "        sec = 3600\n",
    "    elif span =='d':\n",
    "        sec = 86400\n",
    " \n",
    "    source = '''\n",
    "def f(start, end):\n",
    "    duration = end - start\n",
    "    duration_in_s = duration.total_seconds()\n",
    "    return divmod(duration_in_s, {})[0]\n",
    "'''.format(sec)\n",
    " \n",
    "    exec(source, globals())\n",
    " \n",
    "    return f\n",
    " \n",
    "f_minutes = create_function('m')\n",
    "f_hours = create_function('h')\n",
    "f_days = create_function('d')\n",
    " \n",
    "print(f_minutes(start, end))\n",
    "print(f_hours(start, end))\n",
    "print(f_days(start, end))"
   ]
  }
 ],
 "metadata": {
  "kernelspec": {
   "name": "python3",
   "display_name": "Python 3",
   "language": "python"
  },
  "language_info": {
   "codemirror_mode": {
    "name": "ipython",
    "version": 3
   },
   "file_extension": ".py",
   "mimetype": "text/x-python",
   "name": "python",
   "nbconvert_exporter": "python",
   "pygments_lexer": "ipython3",
   "version": "3.7.10"
  },
  "metadata": {
   "interpreter": {
    "hash": "34af8fc3bb917bdbb824768c52b0e753db1a4026371a405fe201c4c2d58cb449"
   }
  },
  "orig_nbformat": 2
 },
 "nbformat": 4,
 "nbformat_minor": 2
}