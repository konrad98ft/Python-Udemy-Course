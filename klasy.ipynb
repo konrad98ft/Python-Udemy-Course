{
 "cells": [
  {
   "cell_type": "markdown",
   "source": [
    "# Klasy wstep"
   ],
   "metadata": {}
  },
  {
   "cell_type": "code",
   "execution_count": 4,
   "source": [
    "cake01={\r\n",
    "'taste' : 'vanilia',\r\n",
    "'glaze' : 'chocolade',\r\n",
    "'text' : 'Happy Brithday',\r\n",
    "'weight' : 0.7\r\n",
    "}\r\n",
    " \r\n",
    "cake02={\r\n",
    "'taste' : 'tee',\r\n",
    "'glaze' : 'lemon',\r\n",
    "'text' : 'Happy Python Coding',\r\n",
    "'weight' : 1.3\r\n",
    "}\r\n",
    "\r\n",
    "\r\n",
    "cakes = [cake01,cake02]\r\n",
    " \r\n",
    "def show_cake_info(c):\r\n",
    "    print('{} cake with {} glaze with text \"{}\" of {} kg'.format(\r\n",
    "        c['taste'], c['glaze'], c['text'], c['weight']))\r\n",
    " \r\n",
    "for cake in cakes: \r\n",
    "    show_cake_info(cake)\r\n"
   ],
   "outputs": [
    {
     "output_type": "stream",
     "name": "stdout",
     "text": [
      "vanilia cake with chocolade glaze with text \"Happy Brithday\" of 0.7 kg\n",
      "tee cake with lemon glaze with text \"Happy Python Coding\" of 1.3 kg\n"
     ]
    }
   ],
   "metadata": {}
  },
  {
   "cell_type": "markdown",
   "source": [
    "# Klasy i atrybuty instancji"
   ],
   "metadata": {}
  },
  {
   "cell_type": "code",
   "execution_count": 5,
   "source": [
    "class Cake: \r\n",
    "\r\n",
    "    def __init__(self,name ,kind,taste,additives,filling):  \r\n",
    "        self.name = name \r\n",
    "        self.kind = kind \r\n",
    "        self.taste = taste\r\n",
    "        self.additives = additives \r\n",
    "        self.filling = filling \r\n",
    "cake01 = Cake('bulka truskawkowa','bulka','truskawka','truskawki','marmolada') \r\n",
    "cake02 = Cake('paczek czekoladowy','paczek','czekoladowy','czekolada','krem')     \r\n",
    "\r\n",
    "cakes = [cake01,cake02]\r\n",
    "\r\n",
    "for c in cakes:\r\n",
    "    print(\"Cake: {}, kind: {} with {} \".format(c.name,c.kind,c.additives))"
   ],
   "outputs": [
    {
     "output_type": "stream",
     "name": "stdout",
     "text": [
      "Cake: bulka truskawkowa, kind: bulka with truskawki \n",
      "Cake: paczek czekoladowy, kind: paczek with czekolada \n"
     ]
    }
   ],
   "metadata": {}
  },
  {
   "cell_type": "markdown",
   "source": [
    "# Metody klasy i instancji"
   ],
   "metadata": {}
  },
  {
   "cell_type": "code",
   "execution_count": 16,
   "source": [
    "class Cake: \r\n",
    "\r\n",
    "    def __init__(self,name ,kind,taste,additives,filling):  \r\n",
    "        self.name = name \r\n",
    "        self.kind = kind \r\n",
    "        self.taste = taste\r\n",
    "        self.additives = additives.copy()\r\n",
    "        self.filling = filling \r\n",
    "\r\n",
    "    def show_info(self): \r\n",
    "        print(\"TODAY in our offer:\")\r\n",
    "        print(self.name)\r\n",
    "        print(\"Smak:\",self.taste)\r\n",
    "        print(\"Rodzaj:\",self.kind)\r\n",
    "        print(\"Dodatki:\",self.additives)\r\n",
    "        print(\"Nadzienie:\",self.filling)\r\n",
    "        print(\"-\"*20)\r\n",
    "\r\n",
    "    def set_filling(self,f): \r\n",
    "        self.filling = f    \r\n",
    "\r\n",
    "    def add_additives(self,a): \r\n",
    "        self.additives.extend(a) \r\n",
    "\r\n",
    "cake01 = Cake('bulka truskawkowa','bulka','truskawka',['truskawki'],'marmolada') \r\n",
    "cake02 = Cake('paczek czekoladowy','paczek','czekoladowy',['czekolada'],'krem')     \r\n",
    "\r\n",
    "cakes = [cake01,cake02]\r\n",
    "\r\n",
    "cakes[1].show_info()\r\n",
    "cakes[1].set_filling(\"budyń\")\r\n",
    "cakes[1].show_info()\r\n",
    "cakes[1].add_additives([\"posypka\"])\r\n",
    "cakes[1].show_info()"
   ],
   "outputs": [
    {
     "output_type": "stream",
     "name": "stdout",
     "text": [
      "TODAY in our offer:\n",
      "paczek czekoladowy\n",
      "Smak: czekoladowy\n",
      "Rodzaj: paczek\n",
      "Dodatki: ['czekolada']\n",
      "Nadzienie: krem\n",
      "--------------------\n",
      "TODAY in our offer:\n",
      "paczek czekoladowy\n",
      "Smak: czekoladowy\n",
      "Rodzaj: paczek\n",
      "Dodatki: ['czekolada']\n",
      "Nadzienie: budyń\n",
      "--------------------\n",
      "TODAY in our offer:\n",
      "paczek czekoladowy\n",
      "Smak: czekoladowy\n",
      "Rodzaj: paczek\n",
      "Dodatki: ['czekolada', 'posypka']\n",
      "Nadzienie: budyń\n",
      "--------------------\n"
     ]
    }
   ],
   "metadata": {}
  },
  {
   "cell_type": "markdown",
   "source": [
    "# Klasa a instancja - różnice"
   ],
   "metadata": {}
  },
  {
   "cell_type": "code",
   "execution_count": 10,
   "source": [
    "class Cake: \r\n",
    "\r\n",
    "    known_kinds = ['cake', 'muffin', 'meringue', 'biscuit', 'eclair', 'christmas', 'pretzel','other']\r\n",
    "    bakery_offer = []\r\n",
    "\r\n",
    "    def __init__(self,name ,kind ,taste,additives,filling):  \r\n",
    "        \r\n",
    "        \r\n",
    "        self.name = name \r\n",
    "        if kind in self.known_kinds:\r\n",
    "            self.kind = kind\r\n",
    "        else:\r\n",
    "            self.kind = 'other'    \r\n",
    "        self.kind = kind \r\n",
    "        self.taste = taste\r\n",
    "        self.additives = additives.copy()\r\n",
    "        self.filling = filling \r\n",
    "        Cake.bakery_offer.append(self)\r\n",
    "\r\n",
    "    def show_info(self): \r\n",
    "        print(\"TODAY in our offer:\")\r\n",
    "        print(self.name)\r\n",
    "        print(\"Smak:\",self.taste)\r\n",
    "        print(\"Rodzaj:\",self.kind)\r\n",
    "        print(\"Dodatki:\",self.additives)\r\n",
    "        print(\"Nadzienie:\",self.filling)\r\n",
    "        print(\"-\"*20)\r\n",
    "\r\n",
    "    def set_filling(self,f): \r\n",
    "        self.filling = f    \r\n",
    "\r\n",
    "    def add_additives(self,a): \r\n",
    "        self.additives.extend(a) \r\n",
    "\r\n",
    "cake01 = Cake('bulka truskawkowa','bulka','truskawka',['truskawki'],'marmolada') \r\n",
    "cake02 = Cake('paczek czekoladowy','paczek','czekoladowy',['czekolada'],'krem')     \r\n",
    "cake03 = Cake('Cocoa waffle','waffle','cocoa',[],'cocoa')\r\n",
    "\r\n",
    "\r\n",
    "\r\n",
    "for cake in Cake.bakery_offer:\r\n",
    "    print(cake.name)\r\n",
    "\r\n",
    "\r\n",
    "#isinstance (cake01,Cake)\r\n",
    "#type(Cake)\r\n",
    "#type(cake01)\r\n",
    "print(vars(cake01))\r\n",
    "print(vars(Cake))\r\n",
    "#dir(cake01)\r\n",
    "#dir(Cake)"
   ],
   "outputs": [
    {
     "output_type": "stream",
     "name": "stdout",
     "text": [
      "bulka truskawkowa\n",
      "paczek czekoladowy\n",
      "Cocoa waffle\n",
      "{'name': 'bulka truskawkowa', 'kind': 'bulka', 'taste': 'truskawka', 'additives': ['truskawki'], 'filling': 'marmolada'}\n",
      "{'__module__': '__main__', 'known_kinds': ['cake', 'muffin', 'meringue', 'biscuit', 'eclair', 'christmas', 'pretzel', 'other'], 'bakery_offer': [<__main__.Cake object at 0x0000022EFA9DB4F0>, <__main__.Cake object at 0x0000022EFA9DB940>, <__main__.Cake object at 0x0000022EFA9DB400>], '__init__': <function Cake.__init__ at 0x0000022EFA9E2B80>, 'show_info': <function Cake.show_info at 0x0000022EFA9E29D0>, 'set_filling': <function Cake.set_filling at 0x0000022EFA9E2940>, 'add_additives': <function Cake.add_additives at 0x0000022EFA9E2790>, '__dict__': <attribute '__dict__' of 'Cake' objects>, '__weakref__': <attribute '__weakref__' of 'Cake' objects>, '__doc__': None}\n"
     ]
    }
   ],
   "metadata": {}
  },
  {
   "cell_type": "markdown",
   "source": [
    "# Dodawanie i ukrywanie atrybutów"
   ],
   "metadata": {}
  },
  {
   "cell_type": "code",
   "execution_count": 16,
   "source": [
    "class Cake: \r\n",
    "\r\n",
    "    known_kinds = ['cake', 'muffin', 'meringue', 'biscuit', 'eclair', 'christmas', 'pretzel','other']\r\n",
    "    bakery_offer = []\r\n",
    "\r\n",
    "    def __init__(self,name ,kind ,taste,additives,filling,gluten_free='False'):  \r\n",
    "        \r\n",
    "        \r\n",
    "        self.name = name \r\n",
    "        if kind in self.known_kinds:\r\n",
    "            self.kind = kind\r\n",
    "        else:\r\n",
    "            self.kind = 'other'    \r\n",
    "        self.kind = kind \r\n",
    "        self.taste = taste\r\n",
    "        self.additives = additives.copy()\r\n",
    "        self.filling = filling \r\n",
    "        self.__gluten_free=gluten_free\r\n",
    "        Cake.bakery_offer.append(self)\r\n",
    "\r\n",
    "    def show_info(self): \r\n",
    "        print(\"TODAY in our offer:\")\r\n",
    "        print(self.name)\r\n",
    "        print(\"Smak:\",self.taste)\r\n",
    "        print(\"Rodzaj:\",self.kind)\r\n",
    "        print(\"Dodatki:\",self.additives)\r\n",
    "        print(\"Nadzienie:\",self.filling)\r\n",
    "        print(\"Gluten free:\",self.__gluten_free)\r\n",
    "        print(\"-\"*20)\r\n",
    "\r\n",
    "    def set_filling(self,f): \r\n",
    "        self.filling = f    \r\n",
    "\r\n",
    "    def add_additives(self,a): \r\n",
    "        self.additives.extend(a) \r\n",
    "\r\n",
    "cake01 = Cake('bulka truskawkowa','bulka','truskawka',['truskawki'],'marmolada','True') \r\n",
    "cake02 = Cake('paczek czekoladowy','paczek','czekoladowy',['czekolada'],'krem')     \r\n",
    "cake03 = Cake('Cocoa waffle','waffle','cocoa',[],'cocoa')\r\n",
    "\r\n",
    "\r\n",
    "\r\n",
    "for cake in Cake.bakery_offer:\r\n",
    "    cake.show_info()\r\n",
    "\r\n",
    "\r\n",
    "print('-*-'*10)\r\n",
    "print(vars(cake01))\r\n",
    "print('-*-'*10)\r\n",
    "\r\n",
    "print(dir(cake03))\r\n",
    "print('-*-'*10)\r\n",
    "cake03.__gluten_free=True\r\n",
    "print(dir(cake03))\r\n"
   ],
   "outputs": [
    {
     "output_type": "stream",
     "name": "stdout",
     "text": [
      "TODAY in our offer:\n",
      "bulka truskawkowa\n",
      "Smak: truskawka\n",
      "Rodzaj: bulka\n",
      "Dodatki: ['truskawki']\n",
      "Nadzienie: marmolada\n",
      "Gluten free: True\n",
      "--------------------\n",
      "TODAY in our offer:\n",
      "paczek czekoladowy\n",
      "Smak: czekoladowy\n",
      "Rodzaj: paczek\n",
      "Dodatki: ['czekolada']\n",
      "Nadzienie: krem\n",
      "Gluten free: False\n",
      "--------------------\n",
      "TODAY in our offer:\n",
      "Cocoa waffle\n",
      "Smak: cocoa\n",
      "Rodzaj: waffle\n",
      "Dodatki: []\n",
      "Nadzienie: cocoa\n",
      "Gluten free: False\n",
      "--------------------\n",
      "-*--*--*--*--*--*--*--*--*--*-\n",
      "{'name': 'bulka truskawkowa', 'kind': 'bulka', 'taste': 'truskawka', 'additives': ['truskawki'], 'filling': 'marmolada', '_Cake__gluten_free': 'True'}\n",
      "-*--*--*--*--*--*--*--*--*--*-\n",
      "['_Cake__gluten_free', '__class__', '__delattr__', '__dict__', '__dir__', '__doc__', '__eq__', '__format__', '__ge__', '__getattribute__', '__gt__', '__hash__', '__init__', '__init_subclass__', '__le__', '__lt__', '__module__', '__ne__', '__new__', '__reduce__', '__reduce_ex__', '__repr__', '__setattr__', '__sizeof__', '__str__', '__subclasshook__', '__weakref__', 'add_additives', 'additives', 'bakery_offer', 'filling', 'kind', 'known_kinds', 'name', 'set_filling', 'show_info', 'taste']\n",
      "-*--*--*--*--*--*--*--*--*--*-\n",
      "['_Cake__gluten_free', '__class__', '__delattr__', '__dict__', '__dir__', '__doc__', '__eq__', '__format__', '__ge__', '__getattribute__', '__gluten_free', '__gt__', '__hash__', '__init__', '__init_subclass__', '__le__', '__lt__', '__module__', '__ne__', '__new__', '__reduce__', '__reduce_ex__', '__repr__', '__setattr__', '__sizeof__', '__str__', '__subclasshook__', '__weakref__', 'add_additives', 'additives', 'bakery_offer', 'filling', 'kind', 'known_kinds', 'name', 'set_filling', 'show_info', 'taste']\n"
     ]
    }
   ],
   "metadata": {}
  },
  {
   "cell_type": "markdown",
   "source": [
    "# Właściwości klasy"
   ],
   "metadata": {}
  },
  {
   "cell_type": "code",
   "execution_count": 19,
   "source": [
    "class Cake: \r\n",
    "\r\n",
    "    known_kinds = ['cake', 'muffin', 'meringue', 'biscuit', 'eclair', 'christmas', 'pretzel','other']\r\n",
    "    bakery_offer = []\r\n",
    "\r\n",
    "    def __init__(self,name ,kind ,taste,additives,filling,gluten_free='False',text=''):  \r\n",
    "        \r\n",
    "        \r\n",
    "        self.name = name \r\n",
    "        if kind in self.known_kinds:\r\n",
    "            self.kind = kind\r\n",
    "        else:\r\n",
    "            self.kind = 'other'    \r\n",
    "        self.kind = kind \r\n",
    "        self.taste = taste\r\n",
    "        self.additives = additives.copy()\r\n",
    "        self.filling = filling \r\n",
    "        self.__gluten_free=gluten_free\r\n",
    "        if kind == 'cake' or text == '':\r\n",
    "            self.__text=text\r\n",
    "        else:\r\n",
    "            print(\"Can't put text for not cakes\")\r\n",
    "\r\n",
    "        Cake.bakery_offer.append(self)\r\n",
    "\r\n",
    "    def show_info(self): \r\n",
    "        print(\"TODAY in our offer:\")\r\n",
    "        print(self.name)\r\n",
    "        print(\"Smak:\",self.taste)\r\n",
    "        print(\"Rodzaj:\",self.kind)\r\n",
    "        print(\"Dodatki:\",self.additives)\r\n",
    "        print(\"Nadzienie:\",self.filling)\r\n",
    "        print(\"Gluten free:\",self.__gluten_free)\r\n",
    "        print(\"Text:\",cake.Text)\r\n",
    "        print(\"-\"*20)\r\n",
    "\r\n",
    "    def set_filling(self,f): \r\n",
    "        self.filling = f    \r\n",
    "\r\n",
    "    def add_additives(self,a): \r\n",
    "        self.additives.extend(a) \r\n",
    "\r\n",
    "    def __get_text(self): \r\n",
    "        return self.__text\r\n",
    "\r\n",
    "    def __set_text(self,text):\r\n",
    "        if self.kind == 'cake' or text == '':\r\n",
    "            self.__text=text\r\n",
    "            print(\"Text changed succesfully\")\r\n",
    "        else:\r\n",
    "            print(\"Can't put text for not cakes\")\r\n",
    "\r\n",
    "    Text = property(__get_text,__set_text,None,'Contains text putted on the cake')       \r\n",
    " \r\n",
    "\r\n",
    "cake01 = Cake('bulka truskawkowa','cake','truskawka',['truskawki'],'marmolada','True','Happy birghtday') \r\n",
    "cake02 = Cake('paczek czekoladowy','paczek','czekoladowy',['czekolada'],'krem','yyyy')     \r\n",
    "cake03 = Cake('Cocoa waffle','waffle','cocoa',[],'cocoa')\r\n",
    "\r\n",
    "\r\n",
    "\r\n",
    "for cake in Cake.bakery_offer:\r\n",
    "    cake.show_info()\r\n",
    "\r\n",
    "cake01.Text='xxxxxx'\r\n",
    "cake03.Text='yyyyyyyy'\r\n",
    "\r\n",
    "for cake in Cake.bakery_offer:\r\n",
    "    cake.show_info()    \r\n"
   ],
   "outputs": [
    {
     "output_type": "stream",
     "name": "stdout",
     "text": [
      "TODAY in our offer:\n",
      "bulka truskawkowa\n",
      "Smak: truskawka\n",
      "Rodzaj: cake\n",
      "Dodatki: ['truskawki']\n",
      "Nadzienie: marmolada\n",
      "Gluten free: True\n",
      "Text: Happy birghtday\n",
      "--------------------\n",
      "TODAY in our offer:\n",
      "paczek czekoladowy\n",
      "Smak: czekoladowy\n",
      "Rodzaj: paczek\n",
      "Dodatki: ['czekolada']\n",
      "Nadzienie: krem\n",
      "Gluten free: yyyy\n",
      "Text: \n",
      "--------------------\n",
      "TODAY in our offer:\n",
      "Cocoa waffle\n",
      "Smak: cocoa\n",
      "Rodzaj: waffle\n",
      "Dodatki: []\n",
      "Nadzienie: cocoa\n",
      "Gluten free: False\n",
      "Text: \n",
      "--------------------\n"
     ]
    }
   ],
   "metadata": {}
  }
 ],
 "metadata": {
  "orig_nbformat": 4,
  "language_info": {
   "name": "python",
   "version": "3.9.5",
   "mimetype": "text/x-python",
   "codemirror_mode": {
    "name": "ipython",
    "version": 3
   },
   "pygments_lexer": "ipython3",
   "nbconvert_exporter": "python",
   "file_extension": ".py"
  },
  "kernelspec": {
   "name": "python3",
   "display_name": "Python 3.9.5 64-bit (windows store)"
  },
  "interpreter": {
   "hash": "4d16e31f730c4477583fe6a3893326b5dfeb44b5a8b47cbe56859c0781a68d52"
  }
 },
 "nbformat": 4,
 "nbformat_minor": 2
}