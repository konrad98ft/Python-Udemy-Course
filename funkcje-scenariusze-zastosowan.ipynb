{
 "cells": [
  {
   "cell_type": "markdown",
   "source": [
    "# Wrapper dla funkcji, dekorowanie funkcji\r\n"
   ],
   "metadata": {}
  },
  {
   "cell_type": "code",
   "execution_count": 28,
   "source": [
    "def changeSalary(exp_name, new_salary, is_bonus=False):\r\n",
    "    print(\"Changing salary for {} to as bonus = {}\".format(exp_name, new_salary, is_bonus))\r\n",
    "    return new_salary\r\n",
    "\r\n",
    "\r\n",
    "\r\n",
    "def createFunctionWithWrapper(func):\r\n",
    "    def func_with_wrapper(*args,**kwargs):\r\n",
    "        print('-'*10)\r\n",
    "        results = func(*args,**kwargs)\r\n",
    "        print('+'*10)\r\n",
    "        return results\r\n",
    "    return func_with_wrapper  \r\n",
    "\r\n",
    "changeSalaryWithLog = createFunctionWithWrapper(changeSalary)  \r\n",
    "\r\n",
    "print(changeSalary(\"Kuj\",20000,True))"
   ],
   "outputs": [
    {
     "output_type": "stream",
     "name": "stdout",
     "text": [
      "Changing salary for Kuj to as bonus = 20000\n",
      "20000\n"
     ]
    }
   ],
   "metadata": {}
  },
  {
   "cell_type": "markdown",
   "source": [
    "# LAB - Wrapper dla funkcji, dekorowanie funkcji\r\n"
   ],
   "metadata": {}
  },
  {
   "cell_type": "code",
   "execution_count": 22,
   "source": [
    "import time\r\n",
    "\r\n",
    "def wrapperTime(func):\r\n",
    "    def wrappedFunc(*args, **kwargs):\r\n",
    "        time_start = time.time()\r\n",
    "        v = func(*args, **kwargs)\r\n",
    "        time_stop = time.time()\r\n",
    "        print(\"Funkcja {} wykonana w czasie {}\".format(func.__name__,time_stop-time_start))\r\n",
    "        return v    \r\n",
    "    return wrappedFunc\r\n",
    "\r\n",
    "def get_sequence(n):\r\n",
    "    \r\n",
    "    if n <= 0:\r\n",
    "        return 1\r\n",
    "    else:\r\n",
    "        v = 0\r\n",
    "        for i in range(n):\r\n",
    "            v += 1 + (get_sequence(i - 1) + get_sequence(i))/2\r\n",
    "        return v\r\n",
    "\r\n",
    "print(get_sequence(9))\r\n",
    "\r\n",
    "wrapper_get_sequence = wrapperTime(get_sequence)\r\n",
    "\r\n",
    "print(wrapper_get_sequence(7))\r\n",
    "\r\n"
   ],
   "outputs": [
    {
     "output_type": "stream",
     "name": "stdout",
     "text": [
      "310.12109375\n",
      "Funkcja get_sequence wykonana w czasie 0.0\n",
      "97.109375\n"
     ]
    }
   ],
   "metadata": {}
  },
  {
   "cell_type": "code",
   "execution_count": 23,
   "source": [
    "import functools\r\n",
    "\r\n",
    "def wrapperTime(func):\r\n",
    "    def wrappedFunc(*args, **kwargs):\r\n",
    "        time_start = time.time()\r\n",
    "        v = func(*args, **kwargs)\r\n",
    "        time_stop = time.time()\r\n",
    "        print(\"Funkcja {} wykonana w czasie {}\".format(func.__name__,time_stop-time_start))\r\n",
    "        return v    \r\n",
    "    return wrappedFunc\r\n",
    "\r\n",
    "@wrapperTime\r\n",
    "def get_sequence(n):\r\n",
    "    \r\n",
    "    if n <= 0:\r\n",
    "        return 1\r\n",
    "    else:\r\n",
    "        v = 0\r\n",
    "        for i in range(n):\r\n",
    "            v += 1 + (get_sequence(i - 1) + get_sequence(i))/2\r\n",
    "        return v\r\n",
    "\r\n",
    "print(get_sequence(3))"
   ],
   "outputs": [
    {
     "output_type": "stream",
     "name": "stdout",
     "text": [
      "Funkcja get_sequence wykonana w czasie 0.0\n",
      "Funkcja get_sequence wykonana w czasie 0.0\n",
      "Funkcja get_sequence wykonana w czasie 0.0\n",
      "Funkcja get_sequence wykonana w czasie 0.0\n",
      "Funkcja get_sequence wykonana w czasie 0.0\n",
      "Funkcja get_sequence wykonana w czasie 0.0\n",
      "Funkcja get_sequence wykonana w czasie 0.0\n",
      "Funkcja get_sequence wykonana w czasie 0.0\n",
      "Funkcja get_sequence wykonana w czasie 0.0\n",
      "Funkcja get_sequence wykonana w czasie 0.0\n",
      "Funkcja get_sequence wykonana w czasie 0.0\n",
      "Funkcja get_sequence wykonana w czasie 0.0\n",
      "Funkcja get_sequence wykonana w czasie 0.0\n",
      "Funkcja get_sequence wykonana w czasie 0.0\n",
      "Funkcja get_sequence wykonana w czasie 0.0\n",
      "Funkcja get_sequence wykonana w czasie 0.0\n",
      "Funkcja get_sequence wykonana w czasie 0.0009975433349609375\n",
      "8.75\n"
     ]
    }
   ],
   "metadata": {}
  },
  {
   "cell_type": "markdown",
   "source": [
    "# LAB - Funkcja wrappera z pararmetrem"
   ],
   "metadata": {}
  },
  {
   "cell_type": "code",
   "execution_count": 24,
   "source": [
    "import os\r\n",
    "import functools\r\n",
    "from datetime import datetime as dt\r\n",
    "\r\n",
    "def wrapper_with_log_file( logged_action, log_file_path):\r\n",
    "    def wrapper_with_log_to_known_file(func):\r\n",
    "        def the_real_wrapper(path):\r\n",
    "            file = open(log_file_path,\"a\")\r\n",
    "            file.write(logged_action)\r\n",
    "            file.write(path)\r\n",
    "            file.write(dt.now().strftime(\"%Y-%m-%d %H:%M:%S\"))\r\n",
    "            file.write('\\n')\r\n",
    "            return func(path)\r\n",
    "        return the_real_wrapper\r\n",
    "    return wrapper_with_log_to_known_file\r\n",
    "\r\n",
    "@wrapper_with_log_file ('FILE_CREATE ',r'C:\\Users\\Konrad\\Desktop\\identyfikacja\\file_create.txt')\r\n",
    "def create_file(path):\r\n",
    "    print('creating file {}'.format(path))\r\n",
    "    open(path,\"w+\")\r\n",
    "\r\n",
    "@wrapper_with_log_file ('FILE_DELETE ',r'C:\\Users\\Konrad\\Desktop\\identyfikacja\\file_delete.txt') \r\n",
    "def delete_file(path):\r\n",
    "    print('deleting file {}'.format(path))\r\n",
    "    os.remove(path)\r\n",
    " \r\n",
    " \r\n",
    "create_file(r'C:\\Users\\Konrad\\Desktop\\identyfikacja\\dummy_file.txt')\r\n",
    "delete_file(r'C:\\Users\\Konrad\\Desktop\\identyfikacja\\dummy_file.txt')\r\n",
    "create_file(r'C:\\Users\\Konrad\\Desktop\\identyfikacja\\dummy_file.txt')\r\n",
    "delete_file(r'C:\\Users\\Konrad\\Desktop\\identyfikacja\\dummy_file.txt')"
   ],
   "outputs": [
    {
     "output_type": "stream",
     "name": "stdout",
     "text": [
      "creating file C:\\Users\\Konrad\\Desktop\\identyfikacja\\dummy_file.txt\n",
      "deleting file C:\\Users\\Konrad\\Desktop\\identyfikacja\\dummy_file.txt\n",
      "creating file C:\\Users\\Konrad\\Desktop\\identyfikacja\\dummy_file.txt\n",
      "deleting file C:\\Users\\Konrad\\Desktop\\identyfikacja\\dummy_file.txt\n"
     ]
    }
   ],
   "metadata": {}
  },
  {
   "cell_type": "markdown",
   "source": [],
   "metadata": {}
  },
  {
   "cell_type": "markdown",
   "source": [
    "# Wysyłanie maila z pythona\r\n"
   ],
   "metadata": {}
  },
  {
   "cell_type": "code",
   "execution_count": 27,
   "source": [
    "import smtplib\r\n",
    "\r\n",
    "mailFrom = 'Konrad Chrostowski'\r\n",
    "mailTo = 'konradchrostowski2@gmail.com'\r\n",
    "mailSubject = 'Processing finished succeslly'\r\n",
    "mailBody = 'Hello'\r\n",
    "\r\n",
    "message = '''From: {}\r\n",
    "Subject: {}\r\n",
    "\r\n",
    "{}\r\n",
    "\r\n",
    "'''.format(mailFrom,mailSubject,mailBody)\r\n",
    "\r\n",
    "user = 'konradchrostowski@gmail.com'\r\n",
    "password = 'SamuelEl8!'\r\n",
    "\r\n",
    "try:\r\n",
    "    server = smtplib.SMTP_SSL('smtp.gmail.com',465)\r\n",
    "    server.ehlo()\r\n",
    "    server.login(user,password)\r\n",
    "    server.sendmail(user,mailTo,message)\r\n",
    "    server.close()\r\n",
    "    print('mail sent')\r\n",
    "except:\r\n",
    "    print('mail not sent')\r\n"
   ],
   "outputs": [
    {
     "output_type": "stream",
     "name": "stdout",
     "text": [
      "mail sent\n"
     ]
    }
   ],
   "metadata": {}
  },
  {
   "cell_type": "markdown",
   "source": [
    "# Funkcja partial"
   ],
   "metadata": {}
  },
  {
   "cell_type": "code",
   "execution_count": 33,
   "source": [
    "import smtplib\r\n",
    "import functools\r\n",
    "\r\n",
    "\r\n",
    "def SendInfoEmail(user,password,mailFrom,mailTo,mailSubject,mailBody):\r\n",
    "    \r\n",
    "    message = '''From: {}\r\n",
    "Subject: {}\r\n",
    "\r\n",
    "{}\r\n",
    "\r\n",
    "'''.format(mailFrom,mailSubject,mailBody)\r\n",
    "\r\n",
    "    try:\r\n",
    "        server = smtplib.SMTP_SSL('smtp.gmail.com',465)\r\n",
    "        server.ehlo()\r\n",
    "        server.login(user,password)\r\n",
    "        server.sendmail(user,mailTo,message)\r\n",
    "        server.close()\r\n",
    "        print('mail sent')\r\n",
    "        return True\r\n",
    "    except:\r\n",
    "        print('mail not sent')\r\n",
    "        return False\r\n",
    "\r\n",
    "SendInfoEmailFromGmail = functools.partial(SendInfoEmail,user,password,mailSubject='Execution Alert')\r\n",
    "\r\n",
    "\r\n",
    "mailFrom = 'Konrad Chrostowski'\r\n",
    "mailTo = 'konradchrostowski2@gmail.com'\r\n",
    "mailSubject = 'Processing finished succeslly'\r\n",
    "mailBody = '''Hello\r\n",
    "This is test email of partial function'''\r\n",
    "user = 'konradchrostowski@gmail.com'\r\n",
    "password = 'SamuelEl8!'\r\n",
    "\r\n",
    "#SendInfoEmail(user,password,mailFrom,mailTo,mailSubject,mailBody)\r\n",
    "SendInfoEmailFromGmail(mailFrom=mailFrom,mailTo=mailTo,mailBody=mailBody)"
   ],
   "outputs": [
    {
     "output_type": "stream",
     "name": "stdout",
     "text": [
      "mail sent\n"
     ]
    },
    {
     "output_type": "execute_result",
     "data": {
      "text/plain": [
       "True"
      ]
     },
     "metadata": {},
     "execution_count": 33
    }
   ],
   "metadata": {}
  }
 ],
 "metadata": {
  "orig_nbformat": 4,
  "language_info": {
   "name": "python",
   "version": "3.9.5"
  },
  "kernelspec": {
   "name": "python3",
   "display_name": "Python 3.9.5 64-bit (windows store)"
  },
  "interpreter": {
   "hash": "4d16e31f730c4477583fe6a3893326b5dfeb44b5a8b47cbe56859c0781a68d52"
  }
 },
 "nbformat": 4,
 "nbformat_minor": 2
}